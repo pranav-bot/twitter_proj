{
 "cells": [
  {
   "cell_type": "code",
   "execution_count": 1,
   "id": "df027242",
   "metadata": {},
   "outputs": [
    {
     "name": "stdout",
     "output_type": "stream",
     "text": [
      "Requirement already satisfied: profanity-police in c:\\users\\pranav\\.conda\\envs\\twitter_proj\\lib\\site-packages (1.0.0)\n",
      "Requirement already satisfied: idna==2.10 in c:\\users\\pranav\\.conda\\envs\\twitter_proj\\lib\\site-packages (from profanity-police) (2.10)\n",
      "Requirement already satisfied: pysrt==1.1.2 in c:\\users\\pranav\\.conda\\envs\\twitter_proj\\lib\\site-packages (from profanity-police) (1.1.2)\n",
      "Requirement already satisfied: certifi==2021.5.30 in c:\\users\\pranav\\.conda\\envs\\twitter_proj\\lib\\site-packages (from profanity-police) (2021.5.30)\n",
      "Requirement already satisfied: urllib3==1.26.5 in c:\\users\\pranav\\.conda\\envs\\twitter_proj\\lib\\site-packages (from profanity-police) (1.26.5)\n",
      "Requirement already satisfied: requests==2.25.1 in c:\\users\\pranav\\.conda\\envs\\twitter_proj\\lib\\site-packages (from profanity-police) (2.25.1)\n",
      "Requirement already satisfied: chardet==4.0.0 in c:\\users\\pranav\\.conda\\envs\\twitter_proj\\lib\\site-packages (from profanity-police) (4.0.0)\n",
      "Requirement already satisfied: youtube-transcript-api==0.4.1 in c:\\users\\pranav\\.conda\\envs\\twitter_proj\\lib\\site-packages (from profanity-police) (0.4.1)\n",
      "Requirement already satisfied: englisttohindi in c:\\users\\pranav\\.conda\\envs\\twitter_proj\\lib\\site-packages (4.1.0)\n",
      "Requirement already satisfied: bs4 in c:\\users\\pranav\\.conda\\envs\\twitter_proj\\lib\\site-packages (from englisttohindi) (0.0.1)\n",
      "Requirement already satisfied: pandas in c:\\users\\pranav\\.conda\\envs\\twitter_proj\\lib\\site-packages (from englisttohindi) (1.5.2)\n",
      "Requirement already satisfied: requests in c:\\users\\pranav\\.conda\\envs\\twitter_proj\\lib\\site-packages (from englisttohindi) (2.25.1)\n",
      "Requirement already satisfied: beautifulsoup4 in c:\\users\\pranav\\.conda\\envs\\twitter_proj\\lib\\site-packages (from bs4->englisttohindi) (4.11.1)\n",
      "Requirement already satisfied: python-dateutil>=2.8.1 in c:\\users\\pranav\\.conda\\envs\\twitter_proj\\lib\\site-packages (from pandas->englisttohindi) (2.8.2)\n",
      "Requirement already satisfied: numpy>=1.20.3 in c:\\users\\pranav\\.conda\\envs\\twitter_proj\\lib\\site-packages (from pandas->englisttohindi) (1.23.5)\n",
      "Requirement already satisfied: pytz>=2020.1 in c:\\users\\pranav\\.conda\\envs\\twitter_proj\\lib\\site-packages (from pandas->englisttohindi) (2022.7)\n",
      "Requirement already satisfied: urllib3<1.27,>=1.21.1 in c:\\users\\pranav\\.conda\\envs\\twitter_proj\\lib\\site-packages (from requests->englisttohindi) (1.26.5)\n",
      "Requirement already satisfied: certifi>=2017.4.17 in c:\\users\\pranav\\.conda\\envs\\twitter_proj\\lib\\site-packages (from requests->englisttohindi) (2021.5.30)\n",
      "Requirement already satisfied: chardet<5,>=3.0.2 in c:\\users\\pranav\\.conda\\envs\\twitter_proj\\lib\\site-packages (from requests->englisttohindi) (4.0.0)\n",
      "Requirement already satisfied: idna<3,>=2.5 in c:\\users\\pranav\\.conda\\envs\\twitter_proj\\lib\\site-packages (from requests->englisttohindi) (2.10)\n",
      "Requirement already satisfied: six>=1.5 in c:\\users\\pranav\\.conda\\envs\\twitter_proj\\lib\\site-packages (from python-dateutil>=2.8.1->pandas->englisttohindi) (1.16.0)\n",
      "Requirement already satisfied: soupsieve>1.2 in c:\\users\\pranav\\.conda\\envs\\twitter_proj\\lib\\site-packages (from beautifulsoup4->bs4->englisttohindi) (2.3.2.post1)\n"
     ]
    }
   ],
   "source": [
    "!pip install profanity-police\n",
    "!pip install englisttohindi"
   ]
  },
  {
   "cell_type": "code",
   "execution_count": 2,
   "id": "7e079002",
   "metadata": {},
   "outputs": [],
   "source": [
    "#!pip install plotly\n",
    "import numpy as np\n",
    "import pandas as pd\n",
    "#import plotly.express as px\n",
    "import matplotlib.pyplot as plt\n",
    "import seaborn as sns\n",
    "import re\n",
    "%matplotlib inline"
   ]
  },
  {
   "cell_type": "code",
   "execution_count": 3,
   "id": "0c265cbe",
   "metadata": {},
   "outputs": [
    {
     "name": "stderr",
     "output_type": "stream",
     "text": [
      "C:\\Users\\Pranav\\AppData\\Local\\Temp\\ipykernel_13368\\1009609860.py:1: DtypeWarning: Columns (1) have mixed types. Specify dtype option on import or set low_memory=False.\n",
      "  data = pd.read_csv('Twitter_Data.csv', names = ['text', 'target', 'user', 'date'])\n"
     ]
    }
   ],
   "source": [
    "data = pd.read_csv('Twitter_Data.csv', names = ['text', 'target', 'user', 'date'])\n",
    "columns = [\"target\", \"ids\", \"date\", \"flag\", \"user\", \"text\"]\n",
    "data1 = pd.read_csv('training.1600000.processed.noemoticon.csv', encoding='ISO-8859-1', names=columns)"
   ]
  },
  {
   "cell_type": "code",
   "execution_count": 13,
   "id": "3ab04ef3",
   "metadata": {},
   "outputs": [
    {
     "data": {
      "text/plain": [
       "[]"
      ]
     },
     "execution_count": 13,
     "metadata": {},
     "output_type": "execute_result"
    }
   ],
   "source": [
    "from profanity_police.checker import Checker\n",
    "checker = Checker()\n",
    "transcript = [{\"text\": \"What is your shitty sluts?\"}, {\"text\": \"चौकीदार\"}]\n",
    "language_code = \"hi\"\n",
    "# `transcript` needs to be a list of dictionaries with one mandatory key - `text` \n",
    "swear_words_in_transcript = checker.check_swear_word(transcript, language_code)\n",
    "swear_words_in_transcript\n"
   ]
  },
  {
   "cell_type": "code",
   "execution_count": 15,
   "id": "28aa44e1",
   "metadata": {},
   "outputs": [
    {
     "name": "stdout",
     "output_type": "stream",
     "text": [
      "बकवास\n"
     ]
    }
   ],
   "source": [
    "from englisttohindi.englisttohindi import EngtoHindi\n",
    " \n",
    "# message to be translated\n",
    "message = \"shitty\"\n",
    " \n",
    "# creating a EngtoHindi() object\n",
    "res = EngtoHindi(message)\n",
    " \n",
    "# displaying the translation\n",
    "print(res.convert)"
   ]
  },
  {
   "cell_type": "code",
   "execution_count": 6,
   "id": "5f5ceaf1",
   "metadata": {},
   "outputs": [
    {
     "name": "stdout",
     "output_type": "stream",
     "text": [
      "-1\n",
      "<class 'pandas.core.frame.DataFrame'>\n",
      "Int64Index: 162969 entries, 1 to 162980\n",
      "Data columns (total 4 columns):\n",
      " #   Column  Non-Null Count   Dtype \n",
      "---  ------  --------------   ----- \n",
      " 0   text    162969 non-null  object\n",
      " 1   target  162969 non-null  int32 \n",
      " 2   user    162969 non-null  object\n",
      " 3   date    162969 non-null  object\n",
      "dtypes: int32(1), object(3)\n",
      "memory usage: 5.6+ MB\n"
     ]
    }
   ],
   "source": [
    "data.user = data1.user\n",
    "data.date = data1.date\n",
    "data = data.tail(-1)\n",
    "data.isnull().sum()\n",
    "data.dropna(inplace=True)\n",
    "print(data.target.iloc[0])\n",
    "data.target = data.target.astype(int)\n",
    "data.info()"
   ]
  },
  {
   "cell_type": "code",
   "execution_count": 7,
   "id": "78340c8e",
   "metadata": {},
   "outputs": [],
   "source": [
    "data_exploration = data.copy()"
   ]
  },
  {
   "cell_type": "code",
   "execution_count": 8,
   "id": "1276c85b",
   "metadata": {},
   "outputs": [],
   "source": [
    "decode_map = {0:\"NEUTRAL\", -1: \"NEGATIVE\", 1: \"POSITIVE\"}\n",
    "def decode_sentiment(label):\n",
    "    return decode_map[label]"
   ]
  },
  {
   "cell_type": "code",
   "execution_count": 9,
   "id": "cd9046e9",
   "metadata": {},
   "outputs": [
    {
     "name": "stderr",
     "output_type": "stream",
     "text": [
      "C:\\Users\\Pranav\\AppData\\Local\\Temp\\ipykernel_9004\\2779528963.py:3: SettingWithCopyWarning: \n",
      "A value is trying to be set on a copy of a slice from a DataFrame\n",
      "\n",
      "See the caveats in the documentation: https://pandas.pydata.org/pandas-docs/stable/user_guide/indexing.html#returning-a-view-versus-a-copy\n",
      "  data_exploration.target.iloc[i] = decode_map[x]\n"
     ]
    },
    {
     "data": {
      "text/html": [
       "<div>\n",
       "<style scoped>\n",
       "    .dataframe tbody tr th:only-of-type {\n",
       "        vertical-align: middle;\n",
       "    }\n",
       "\n",
       "    .dataframe tbody tr th {\n",
       "        vertical-align: top;\n",
       "    }\n",
       "\n",
       "    .dataframe thead th {\n",
       "        text-align: right;\n",
       "    }\n",
       "</style>\n",
       "<table border=\"1\" class=\"dataframe\">\n",
       "  <thead>\n",
       "    <tr style=\"text-align: right;\">\n",
       "      <th></th>\n",
       "      <th>text</th>\n",
       "      <th>target</th>\n",
       "      <th>user</th>\n",
       "      <th>date</th>\n",
       "    </tr>\n",
       "  </thead>\n",
       "  <tbody>\n",
       "    <tr>\n",
       "      <th>1</th>\n",
       "      <td>when modi promised “minimum government maximum...</td>\n",
       "      <td>NEGATIVE</td>\n",
       "      <td>scotthamilton</td>\n",
       "      <td>Mon Apr 06 22:19:49 PDT 2009</td>\n",
       "    </tr>\n",
       "    <tr>\n",
       "      <th>2</th>\n",
       "      <td>talk all the nonsense and continue all the dra...</td>\n",
       "      <td>NEUTRAL</td>\n",
       "      <td>mattycus</td>\n",
       "      <td>Mon Apr 06 22:19:53 PDT 2009</td>\n",
       "    </tr>\n",
       "    <tr>\n",
       "      <th>3</th>\n",
       "      <td>what did just say vote for modi  welcome bjp t...</td>\n",
       "      <td>POSITIVE</td>\n",
       "      <td>ElleCTF</td>\n",
       "      <td>Mon Apr 06 22:19:57 PDT 2009</td>\n",
       "    </tr>\n",
       "    <tr>\n",
       "      <th>4</th>\n",
       "      <td>asking his supporters prefix chowkidar their n...</td>\n",
       "      <td>POSITIVE</td>\n",
       "      <td>Karoli</td>\n",
       "      <td>Mon Apr 06 22:19:57 PDT 2009</td>\n",
       "    </tr>\n",
       "    <tr>\n",
       "      <th>5</th>\n",
       "      <td>answer who among these the most powerful world...</td>\n",
       "      <td>POSITIVE</td>\n",
       "      <td>joy_wolf</td>\n",
       "      <td>Mon Apr 06 22:20:00 PDT 2009</td>\n",
       "    </tr>\n",
       "    <tr>\n",
       "      <th>...</th>\n",
       "      <td>...</td>\n",
       "      <td>...</td>\n",
       "      <td>...</td>\n",
       "      <td>...</td>\n",
       "    </tr>\n",
       "    <tr>\n",
       "      <th>162976</th>\n",
       "      <td>why these 456 crores paid neerav modi not reco...</td>\n",
       "      <td>NEGATIVE</td>\n",
       "      <td>foxcek</td>\n",
       "      <td>Fri May 29 01:13:27 PDT 2009</td>\n",
       "    </tr>\n",
       "    <tr>\n",
       "      <th>162977</th>\n",
       "      <td>dear rss terrorist payal gawar what about modi...</td>\n",
       "      <td>NEGATIVE</td>\n",
       "      <td>magicswebpage</td>\n",
       "      <td>Fri May 29 01:13:28 PDT 2009</td>\n",
       "    </tr>\n",
       "    <tr>\n",
       "      <th>162978</th>\n",
       "      <td>did you cover her interaction forum where she ...</td>\n",
       "      <td>NEUTRAL</td>\n",
       "      <td>ria_das</td>\n",
       "      <td>Fri May 29 01:13:30 PDT 2009</td>\n",
       "    </tr>\n",
       "    <tr>\n",
       "      <th>162979</th>\n",
       "      <td>there big project came into india modi dream p...</td>\n",
       "      <td>NEUTRAL</td>\n",
       "      <td>becca_caddy</td>\n",
       "      <td>Fri May 29 01:13:31 PDT 2009</td>\n",
       "    </tr>\n",
       "    <tr>\n",
       "      <th>162980</th>\n",
       "      <td>have you ever listen about like gurukul where ...</td>\n",
       "      <td>POSITIVE</td>\n",
       "      <td>GeoAtreides</td>\n",
       "      <td>Fri May 29 01:13:35 PDT 2009</td>\n",
       "    </tr>\n",
       "  </tbody>\n",
       "</table>\n",
       "<p>162969 rows × 4 columns</p>\n",
       "</div>"
      ],
      "text/plain": [
       "                                                     text    target  \\\n",
       "1       when modi promised “minimum government maximum...  NEGATIVE   \n",
       "2       talk all the nonsense and continue all the dra...   NEUTRAL   \n",
       "3       what did just say vote for modi  welcome bjp t...  POSITIVE   \n",
       "4       asking his supporters prefix chowkidar their n...  POSITIVE   \n",
       "5       answer who among these the most powerful world...  POSITIVE   \n",
       "...                                                   ...       ...   \n",
       "162976  why these 456 crores paid neerav modi not reco...  NEGATIVE   \n",
       "162977  dear rss terrorist payal gawar what about modi...  NEGATIVE   \n",
       "162978  did you cover her interaction forum where she ...   NEUTRAL   \n",
       "162979  there big project came into india modi dream p...   NEUTRAL   \n",
       "162980  have you ever listen about like gurukul where ...  POSITIVE   \n",
       "\n",
       "                 user                          date  \n",
       "1       scotthamilton  Mon Apr 06 22:19:49 PDT 2009  \n",
       "2            mattycus  Mon Apr 06 22:19:53 PDT 2009  \n",
       "3             ElleCTF  Mon Apr 06 22:19:57 PDT 2009  \n",
       "4              Karoli  Mon Apr 06 22:19:57 PDT 2009  \n",
       "5            joy_wolf  Mon Apr 06 22:20:00 PDT 2009  \n",
       "...               ...                           ...  \n",
       "162976         foxcek  Fri May 29 01:13:27 PDT 2009  \n",
       "162977  magicswebpage  Fri May 29 01:13:28 PDT 2009  \n",
       "162978        ria_das  Fri May 29 01:13:30 PDT 2009  \n",
       "162979    becca_caddy  Fri May 29 01:13:31 PDT 2009  \n",
       "162980    GeoAtreides  Fri May 29 01:13:35 PDT 2009  \n",
       "\n",
       "[162969 rows x 4 columns]"
      ]
     },
     "execution_count": 9,
     "metadata": {},
     "output_type": "execute_result"
    }
   ],
   "source": [
    "for i in range(len(data)):\n",
    "    x = data.target.iloc[i]\n",
    "    data_exploration.target.iloc[i] = decode_map[x]\n",
    "data_exploration"
   ]
  },
  {
   "cell_type": "code",
   "execution_count": 10,
   "id": "8b7ff241",
   "metadata": {},
   "outputs": [
    {
     "data": {
      "image/png": "[encoded data removed]",
      "text/plain": [
       "<Figure size 1400x600 with 1 Axes>"
      ]
     },
     "metadata": {},
     "output_type": "display_data"
    }
   ],
   "source": [
    "df_target_dist=data_exploration.groupby('target')\n",
    "\n",
    "with sns.color_palette(\"RdBu\",4):\n",
    "    plt.figure(figsize=(14,6))\n",
    "    labels = df_target_dist['target'].value_counts().index\n",
    "    plt.pie(df_target_dist['target'].value_counts(), labels= labels, startangle=90, autopct='%.1f%%')\n",
    "    plt.show()"
   ]
  },
  {
   "cell_type": "code",
   "execution_count": 11,
   "id": "690bfc4e",
   "metadata": {},
   "outputs": [
    {
     "data": {
      "text/plain": [
       "text      0\n",
       "target    0\n",
       "user      0\n",
       "date      0\n",
       "dtype: int64"
      ]
     },
     "execution_count": 11,
     "metadata": {},
     "output_type": "execute_result"
    }
   ],
   "source": [
    "data.isnull().sum()"
   ]
  },
  {
   "cell_type": "code",
   "execution_count": 12,
   "id": "54b6f713",
   "metadata": {},
   "outputs": [
    {
     "name": "stderr",
     "output_type": "stream",
     "text": [
      "C:\\Users\\Pranav\\AppData\\Local\\Temp\\ipykernel_9004\\2633271615.py:2: UserWarning: Ignoring `palette` because no `hue` variable has been assigned.\n",
      "  a=sns.histplot([len(s) for s in data_exploration.text], bins=50, palette='Set1')\n"
     ]
    },
    {
     "data": {
      "image/png": "[encoded data removed]",
      "text/plain": [
       "<Figure size 1000x600 with 1 Axes>"
      ]
     },
     "metadata": {},
     "output_type": "display_data"
    }
   ],
   "source": [
    "plt.figure(figsize=(10, 6))\n",
    "a=sns.histplot([len(s) for s in data_exploration.text], bins=50, palette='Set1')\n",
    "a.set_title(\"Sentence Length\",fontsize=15)\n",
    "plt.show()"
   ]
  },
  {
   "cell_type": "code",
   "execution_count": 13,
   "id": "fb2a9668",
   "metadata": {},
   "outputs": [
    {
     "name": "stderr",
     "output_type": "stream",
     "text": [
      "C:\\Users\\Pranav\\AppData\\Local\\Temp\\ipykernel_9004\\1877237645.py:2: UserWarning: Ignoring `palette` because no `hue` variable has been assigned.\n",
      "  a=sns.histplot((data_exploration['text'].str.split().map(lambda x: len(x))), bins=50, palette='Set1')\n"
     ]
    },
    {
     "data": {
      "image/png": "[encoded data removed]",
      "text/plain": [
       "<Figure size 1000x600 with 1 Axes>"
      ]
     },
     "metadata": {},
     "output_type": "display_data"
    }
   ],
   "source": [
    "plt.figure(figsize=(10, 6))\n",
    "a=sns.histplot((data_exploration['text'].str.split().map(lambda x: len(x))), bins=50, palette='Set1')\n",
    "a.set_title(\"Length of words\",fontsize=15)\n",
    "plt.show()"
   ]
  },
  {
   "cell_type": "code",
   "execution_count": null,
   "id": "1a1861ed",
   "metadata": {},
   "outputs": [],
   "source": []
  },
  {
   "cell_type": "code",
   "execution_count": 14,
   "id": "1367d291",
   "metadata": {},
   "outputs": [
    {
     "data": {
      "text/html": [
       "<div>\n",
       "<style scoped>\n",
       "    .dataframe tbody tr th:only-of-type {\n",
       "        vertical-align: middle;\n",
       "    }\n",
       "\n",
       "    .dataframe tbody tr th {\n",
       "        vertical-align: top;\n",
       "    }\n",
       "\n",
       "    .dataframe thead th {\n",
       "        text-align: right;\n",
       "    }\n",
       "</style>\n",
       "<table border=\"1\" class=\"dataframe\">\n",
       "  <thead>\n",
       "    <tr style=\"text-align: right;\">\n",
       "      <th></th>\n",
       "      <th>text</th>\n",
       "      <th>target</th>\n",
       "      <th>user</th>\n",
       "      <th>date</th>\n",
       "    </tr>\n",
       "  </thead>\n",
       "  <tbody>\n",
       "    <tr>\n",
       "      <th>1</th>\n",
       "      <td>when modi promised “minimum government maximum...</td>\n",
       "      <td>-1</td>\n",
       "      <td>scotthamilton</td>\n",
       "      <td>Mon Apr 06 22:19:49 PDT 2009</td>\n",
       "    </tr>\n",
       "    <tr>\n",
       "      <th>2</th>\n",
       "      <td>talk all the nonsense and continue all the dra...</td>\n",
       "      <td>0</td>\n",
       "      <td>mattycus</td>\n",
       "      <td>Mon Apr 06 22:19:53 PDT 2009</td>\n",
       "    </tr>\n",
       "    <tr>\n",
       "      <th>3</th>\n",
       "      <td>what did just say vote for modi  welcome bjp t...</td>\n",
       "      <td>1</td>\n",
       "      <td>ElleCTF</td>\n",
       "      <td>Mon Apr 06 22:19:57 PDT 2009</td>\n",
       "    </tr>\n",
       "    <tr>\n",
       "      <th>4</th>\n",
       "      <td>asking his supporters prefix chowkidar their n...</td>\n",
       "      <td>1</td>\n",
       "      <td>Karoli</td>\n",
       "      <td>Mon Apr 06 22:19:57 PDT 2009</td>\n",
       "    </tr>\n",
       "    <tr>\n",
       "      <th>5</th>\n",
       "      <td>answer who among these the most powerful world...</td>\n",
       "      <td>1</td>\n",
       "      <td>joy_wolf</td>\n",
       "      <td>Mon Apr 06 22:20:00 PDT 2009</td>\n",
       "    </tr>\n",
       "    <tr>\n",
       "      <th>...</th>\n",
       "      <td>...</td>\n",
       "      <td>...</td>\n",
       "      <td>...</td>\n",
       "      <td>...</td>\n",
       "    </tr>\n",
       "    <tr>\n",
       "      <th>162976</th>\n",
       "      <td>why these 456 crores paid neerav modi not reco...</td>\n",
       "      <td>-1</td>\n",
       "      <td>foxcek</td>\n",
       "      <td>Fri May 29 01:13:27 PDT 2009</td>\n",
       "    </tr>\n",
       "    <tr>\n",
       "      <th>162977</th>\n",
       "      <td>dear rss terrorist payal gawar what about modi...</td>\n",
       "      <td>-1</td>\n",
       "      <td>magicswebpage</td>\n",
       "      <td>Fri May 29 01:13:28 PDT 2009</td>\n",
       "    </tr>\n",
       "    <tr>\n",
       "      <th>162978</th>\n",
       "      <td>did you cover her interaction forum where she ...</td>\n",
       "      <td>0</td>\n",
       "      <td>ria_das</td>\n",
       "      <td>Fri May 29 01:13:30 PDT 2009</td>\n",
       "    </tr>\n",
       "    <tr>\n",
       "      <th>162979</th>\n",
       "      <td>there big project came into india modi dream p...</td>\n",
       "      <td>0</td>\n",
       "      <td>becca_caddy</td>\n",
       "      <td>Fri May 29 01:13:31 PDT 2009</td>\n",
       "    </tr>\n",
       "    <tr>\n",
       "      <th>162980</th>\n",
       "      <td>have you ever listen about like gurukul where ...</td>\n",
       "      <td>1</td>\n",
       "      <td>GeoAtreides</td>\n",
       "      <td>Fri May 29 01:13:35 PDT 2009</td>\n",
       "    </tr>\n",
       "  </tbody>\n",
       "</table>\n",
       "<p>162969 rows × 4 columns</p>\n",
       "</div>"
      ],
      "text/plain": [
       "                                                     text  target  \\\n",
       "1       when modi promised “minimum government maximum...      -1   \n",
       "2       talk all the nonsense and continue all the dra...       0   \n",
       "3       what did just say vote for modi  welcome bjp t...       1   \n",
       "4       asking his supporters prefix chowkidar their n...       1   \n",
       "5       answer who among these the most powerful world...       1   \n",
       "...                                                   ...     ...   \n",
       "162976  why these 456 crores paid neerav modi not reco...      -1   \n",
       "162977  dear rss terrorist payal gawar what about modi...      -1   \n",
       "162978  did you cover her interaction forum where she ...       0   \n",
       "162979  there big project came into india modi dream p...       0   \n",
       "162980  have you ever listen about like gurukul where ...       1   \n",
       "\n",
       "                 user                          date  \n",
       "1       scotthamilton  Mon Apr 06 22:19:49 PDT 2009  \n",
       "2            mattycus  Mon Apr 06 22:19:53 PDT 2009  \n",
       "3             ElleCTF  Mon Apr 06 22:19:57 PDT 2009  \n",
       "4              Karoli  Mon Apr 06 22:19:57 PDT 2009  \n",
       "5            joy_wolf  Mon Apr 06 22:20:00 PDT 2009  \n",
       "...               ...                           ...  \n",
       "162976         foxcek  Fri May 29 01:13:27 PDT 2009  \n",
       "162977  magicswebpage  Fri May 29 01:13:28 PDT 2009  \n",
       "162978        ria_das  Fri May 29 01:13:30 PDT 2009  \n",
       "162979    becca_caddy  Fri May 29 01:13:31 PDT 2009  \n",
       "162980    GeoAtreides  Fri May 29 01:13:35 PDT 2009  \n",
       "\n",
       "[162969 rows x 4 columns]"
      ]
     },
     "execution_count": 14,
     "metadata": {},
     "output_type": "execute_result"
    }
   ],
   "source": [
    "data"
   ]
  },
  {
   "cell_type": "code",
   "execution_count": 15,
   "id": "3f16ca75",
   "metadata": {},
   "outputs": [
    {
     "data": {
      "text/plain": [
       "162969"
      ]
     },
     "execution_count": 15,
     "metadata": {},
     "output_type": "execute_result"
    }
   ],
   "source": [
    "data_hindi  = data.copy()\n",
    "len(data)"
   ]
  },
  {
   "cell_type": "code",
   "execution_count": null,
   "id": "dc3c7771",
   "metadata": {},
   "outputs": [
    {
     "name": "stderr",
     "output_type": "stream",
     "text": [
      "C:\\Users\\Pranav\\AppData\\Local\\Temp\\ipykernel_9004\\361620556.py:5: SettingWithCopyWarning: \n",
      "A value is trying to be set on a copy of a slice from a DataFrame\n",
      "\n",
      "See the caveats in the documentation: https://pandas.pydata.org/pandas-docs/stable/user_guide/indexing.html#returning-a-view-versus-a-copy\n",
      "  data_hindi.text.iloc[i] = res.convert\n"
     ]
    }
   ],
   "source": [
    "from englisttohindi.englisttohindi import EngtoHindi\n",
    "for i in range(len(data)):\n",
    "    message = data_hindi.text.iloc[i]\n",
    "    res = EngtoHindi(message)\n",
    "    data_hindi.text.iloc[i] = res.convert\n",
    "    \n",
    "data_hindi"
   ]
  },
  {
   "cell_type": "code",
   "execution_count": null,
   "id": "40a08e5d",
   "metadata": {},
   "outputs": [],
   "source": [
    "usernames = pd.DataFrame(columns=['ID', 'usernames'])\n",
    "text = data.text[0]\n",
    "a = r'@[A-Za-z0-9]+'+ \" \"\n",
    "username = re.search(r'@[A-Za-z0-9]+', text)\n",
    "username.group()"
   ]
  },
  {
   "cell_type": "code",
   "execution_count": null,
   "id": "4f369cd6",
   "metadata": {},
   "outputs": [],
   "source": [
    "usernames - pd.DataFrame(columns=['ID', 'usernames'])\n",
    "def tweet_clean(tweet):\n",
    "    username = re.search(r'@[A-Za-z0-9]+',\" \", tweet)\n",
    "    \n",
    "    tweet = re.sub(r'@[A-Za-z0-9]+',\" \",tweet)           \n",
    "    tweet = re.sub(r'^[A-Za-z0-9.!?]+',\" \",tweet)         \n",
    "    tweet = re.sub(r'https?://[A-Za-z0-9./]+',\" \",tweet)  \n",
    "    tweet = re.sub(r'#([^\\s]+)', r'\\1', tweet)            \n",
    "    #tweet = re.sub(r\"\\'s\", \" \", tweet)\n",
    "    tweet = re.sub(r\"\\'ve\", \" have \", tweet)\n",
    "    #tweet = re.sub(r\"n't\", \" not \", tweet)\n",
    "    tweet = re.sub(r\"\\'d\", \" would \", tweet)\n",
    "    tweet = re.sub(r\"\\'ll\", \" will \", tweet)\n",
    "    tweet = tweet.lower()\n",
    "    tweet = tweet.strip('. .')\n",
    "    tweet = tweet.replace('.',' ')\n",
    "    tweet = tweet.replace('?',' ')\n",
    "    tweet = tweet.replace(',',' ')\n",
    "    tweet = tweet.replace('-',' ')\n",
    "    tweet = re.sub('[\\s]+', ' ', tweet)                   \n",
    "    tweet = tweet.replace(\"’\", \"'\").replace(\"%\", \" percent \").replace(\"₹\", \" rupee \").replace(\"$\", \" dollar \")\n",
    "    tweet = tweet.replace(\"won't\", \"will not\").replace(\"can't\", \"can not\")\n",
    "    tweet = tweet.replace(\"will not\", \"willnot\").replace(\"can not\", \"cannot\")\n",
    "    tweet = tweet.replace(\"€\", \" euro \")\n",
    "    tweet = tweet.replace(\"don't\", \"dont\").replace(\"do not\", \"dont\").replace(\"didn't\", \"didnot\").replace(\"it's\", \"it is\").replace(\"did not\", \"didnot\")\n",
    "    tweet = tweet.replace(\",000,000\", \"m\").replace(\"n't\", \" not\").replace(\"what's\", \"what is\")\n",
    "    tweet = tweet.replace(\",000\", \"k\").replace(\"i'm\", \"i am\").replace(\"'re\", \" are\")\n",
    "    tweet = tweet.replace(\"he's\", \"he is\").replace(\"she's\", \"she is\").replace(\"'s\", \" own\")\n",
    "    \n",
    "    return tweet\n",
    "\n",
    "df.text = df.text.apply(lambda x: tweet_clean(x))"
   ]
  }
 ],
 "metadata": {
  "kernelspec": {
   "display_name": "Python 3 (ipykernel)",
   "language": "python",
   "name": "python3"
  },
  "language_info": {
   "codemirror_mode": {
    "name": "ipython",
    "version": 3
   },
   "file_extension": ".py",
   "mimetype": "text/x-python",
   "name": "python",
   "nbconvert_exporter": "python",
   "pygments_lexer": "ipython3",
   "version": "3.9.0"
  }
 },
 "nbformat": 4,
 "nbformat_minor": 5
}
